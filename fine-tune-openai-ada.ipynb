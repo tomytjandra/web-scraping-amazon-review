{
 "cells": [
  {
   "attachments": {},
   "cell_type": "markdown",
   "metadata": {},
   "source": [
    "# Import Libraries"
   ]
  },
  {
   "cell_type": "code",
   "execution_count": 3,
   "metadata": {},
   "outputs": [],
   "source": [
    "import pandas as pd\n",
    "import openai\n",
    "import os\n",
    "\n",
    "openai.organization = os.environ.get('OPENAI_ORG')\n",
    "openai.api_key = os.environ.get('OPENAI_API_KEY')"
   ]
  },
  {
   "attachments": {},
   "cell_type": "markdown",
   "metadata": {},
   "source": [
    "# Dataframe Preparation"
   ]
  },
  {
   "cell_type": "code",
   "execution_count": 30,
   "metadata": {},
   "outputs": [
    {
     "name": "stderr",
     "output_type": "stream",
     "text": [
      "<ipython-input-30-f7796e7ad2c7>:3: DtypeWarning: Columns (10) have mixed types. Specify dtype option on import or set low_memory=False.\n",
      "  scrap = pd.read_csv(\"results/combined/20230415_094354_scrap_results_combined.csv\")\n"
     ]
    }
   ],
   "source": [
    "# load full data\n",
    "amazon = pd.read_csv(\"data/Reviews_withURL.csv\")\n",
    "scrap = pd.read_csv(\"results/combined/20230415_094354_scrap_results_combined.csv\")"
   ]
  },
  {
   "cell_type": "code",
   "execution_count": null,
   "metadata": {},
   "outputs": [],
   "source": [
    "amazon['Review'] = amazon['Summary'] + \": \" + amazon['Text']"
   ]
  },
  {
   "cell_type": "code",
   "execution_count": null,
   "metadata": {},
   "outputs": [
    {
     "data": {
      "text/plain": [
       "(349621, 2)"
      ]
     },
     "execution_count": 5,
     "metadata": {},
     "output_type": "execute_result"
    }
   ],
   "source": [
    "amazon_full = pd.merge(amazon, scrap, how='left')  # join tables\n",
    "df = amazon_full[['Review', 'ProductCategories_1']]  # select relevant columns\n",
    "df = df[df['ProductCategories_1'].notna()]  # drop missing values\n",
    "df = df.drop_duplicates().reset_index(drop=True)  # drop duplicates\n",
    "df.columns = ['prompt', 'completion']\n",
    "df.shape"
   ]
  },
  {
   "cell_type": "code",
   "execution_count": null,
   "metadata": {},
   "outputs": [
    {
     "data": {
      "text/plain": [
       "(8824, 2)"
      ]
     },
     "execution_count": 6,
     "metadata": {},
     "output_type": "execute_result"
    }
   ],
   "source": [
    "# drop category with less than min_occurrence\n",
    "min_occurrence = 10\n",
    "df_count = df['completion'].value_counts()\n",
    "subset_df = df[df['completion'].isin(df_count[df_count > min_occurrence].index)]\n",
    "subset_df = subset_df.groupby('completion').head(1000)\n",
    "subset_df.shape"
   ]
  },
  {
   "cell_type": "code",
   "execution_count": null,
   "metadata": {},
   "outputs": [],
   "source": [
    "subset_df.to_json(\"data/review_product_category.jsonl\", orient=\"records\", lines=True)"
   ]
  },
  {
   "attachments": {},
   "cell_type": "markdown",
   "metadata": {},
   "source": [
    "# Data Preparation Tool"
   ]
  },
  {
   "attachments": {},
   "cell_type": "markdown",
   "metadata": {},
   "source": [
    "Fine tuning reference: https://github.com/openai/openai-cookbook/blob/main/examples/Fine-tuned_classification.ipynb"
   ]
  },
  {
   "cell_type": "code",
   "execution_count": null,
   "metadata": {},
   "outputs": [
    {
     "name": "stdout",
     "output_type": "stream",
     "text": [
      "Analyzing...\n",
      "\n",
      "- Your file contains 8824 prompt-completion pairs\n",
      "- Based on your data it seems like you're trying to fine-tune a model for classification\n",
      "- For classification, we recommend you try one of the faster and cheaper models, such as `ada`\n",
      "- For classification, you can estimate the expected model performance by keeping a held out dataset, which is not used for training\n",
      "- Your data does not contain a common separator at the end of your prompts. Having a separator string appended to the end of the prompt makes it clearer to the fine-tuned model where the completion should begin. See https://platform.openai.com/docs/guides/fine-tuning/preparing-your-dataset for more detail and examples. If you intend to do open-ended generation, then you should leave the prompts empty\n",
      "- The completion should start with a whitespace character (` `). This tends to produce better results due to the tokenization we use. See https://platform.openai.com/docs/guides/fine-tuning/preparing-your-dataset for more details\n",
      "\n",
      "Based on the analysis we will perform the following actions:\n",
      "- [Recommended] Add a suffix separator ` ->` to all prompts [Y/n]: Y\n",
      "- [Recommended] Add a whitespace character to the beginning of the completion [Y/n]: Y\n",
      "- [Recommended] Would you like to split into training and validation set? [Y/n]: Y\n",
      "\n",
      "\n",
      "Your data will be written to a new JSONL file. Proceed [Y/n]: Y\n",
      "\n",
      "Wrote modified files to `data/review_product_category_prepared_train.jsonl` and `data/review_product_category_prepared_valid.jsonl`\n",
      "Feel free to take a look!\n",
      "\n",
      "Now use that file when fine-tuning:\n",
      "> openai api fine_tunes.create -t \"data/review_product_category_prepared_train.jsonl\" -v \"data/review_product_category_prepared_valid.jsonl\" --compute_classification_metrics --classification_n_classes 22\n",
      "\n",
      "After you’ve fine-tuned a model, remember that your prompt has to end with the indicator string ` ->` for the model to start generating completions, rather than continuing with the prompt.\n",
      "Once your model starts training, it'll approximately take 3.57 hours to train a `curie` model, and less for `ada` and `babbage`. Queue will approximately take half an hour per job ahead of you.\n"
     ]
    }
   ],
   "source": [
    "!openai tools fine_tunes.prepare_data -f data/review_product_category.jsonl -q"
   ]
  },
  {
   "attachments": {},
   "cell_type": "markdown",
   "metadata": {},
   "source": [
    "# Fine Tune"
   ]
  },
  {
   "cell_type": "code",
   "execution_count": null,
   "metadata": {},
   "outputs": [
    {
     "name": "stdout",
     "output_type": "stream",
     "text": [
      "Uploaded file from data/review_product_category_prepared_train.jsonl: file-xnwxKWa6iajNvMwxn0pTOsK9\n",
      "Uploaded file from data/review_product_category_prepared_valid.jsonl: file-sG7fSIdUn12OMT6h8cUqiwQP\n",
      "Created fine-tune: ft-a4QcUayEegXpPTLdXZnm7daO\n",
      "Streaming events until fine-tuning is complete...\n"
     ]
    },
    {
     "name": "stderr",
     "output_type": "stream",
     "text": [
      "\n",
      "Upload progress:   0%|          | 0.00/4.34M [00:00<?, ?it/s]\n",
      "Upload progress: 100%|██████████| 4.34M/4.34M [00:00<00:00, 4.31Git/s]\n",
      "\n",
      "Upload progress:   0%|          | 0.00/565k [00:00<?, ?it/s]\n",
      "Upload progress: 100%|██████████| 565k/565k [00:00<00:00, 276Mit/s]\n"
     ]
    },
    {
     "name": "stdout",
     "output_type": "stream",
     "text": [
      "\n",
      "(Ctrl-C will interrupt the stream, but not cancel the fine-tune)\n",
      "[2023-04-15 10:04:10] Created fine-tune: ft-a4QcUayEegXpPTLdXZnm7daO\n",
      "[2023-04-15 10:04:29] Fine-tune costs $1.55\n",
      "[2023-04-15 10:04:30] Fine-tune enqueued. Queue number: 0\n",
      "\n"
     ]
    }
   ],
   "source": [
    "!openai api fine_tunes.create -t \"data/review_product_category_prepared_train.jsonl\" -v \"data/review_product_category_prepared_valid.jsonl\" --compute_classification_metrics --classification_n_classes 22 -m ada"
   ]
  },
  {
   "cell_type": "code",
   "execution_count": 45,
   "metadata": {},
   "outputs": [
    {
     "data": {
      "text/html": [
       "<div>\n",
       "<style scoped>\n",
       "    .dataframe tbody tr th:only-of-type {\n",
       "        vertical-align: middle;\n",
       "    }\n",
       "\n",
       "    .dataframe tbody tr th {\n",
       "        vertical-align: top;\n",
       "    }\n",
       "\n",
       "    .dataframe thead th {\n",
       "        text-align: right;\n",
       "    }\n",
       "</style>\n",
       "<table border=\"1\" class=\"dataframe\">\n",
       "  <thead>\n",
       "    <tr style=\"text-align: right;\">\n",
       "      <th></th>\n",
       "      <th>created_at</th>\n",
       "      <th>message</th>\n",
       "    </tr>\n",
       "  </thead>\n",
       "  <tbody>\n",
       "    <tr>\n",
       "      <th>0</th>\n",
       "      <td>2023-04-15 02:04:10</td>\n",
       "      <td>Created fine-tune: ft-a4QcUayEegXpPTLdXZnm7daO</td>\n",
       "    </tr>\n",
       "    <tr>\n",
       "      <th>1</th>\n",
       "      <td>2023-04-15 02:04:29</td>\n",
       "      <td>Fine-tune costs $1.55</td>\n",
       "    </tr>\n",
       "    <tr>\n",
       "      <th>2</th>\n",
       "      <td>2023-04-15 02:04:30</td>\n",
       "      <td>Fine-tune enqueued. Queue number: 0</td>\n",
       "    </tr>\n",
       "    <tr>\n",
       "      <th>3</th>\n",
       "      <td>2023-04-15 02:24:33</td>\n",
       "      <td>Fine-tune started</td>\n",
       "    </tr>\n",
       "    <tr>\n",
       "      <th>4</th>\n",
       "      <td>2023-04-15 02:31:04</td>\n",
       "      <td>Completed epoch 1/4</td>\n",
       "    </tr>\n",
       "    <tr>\n",
       "      <th>5</th>\n",
       "      <td>2023-04-15 02:44:35</td>\n",
       "      <td>Completed epoch 3/4</td>\n",
       "    </tr>\n",
       "    <tr>\n",
       "      <th>6</th>\n",
       "      <td>2023-04-15 02:52:12</td>\n",
       "      <td>Uploaded model: ada:ft-personal-2023-04-15-02-...</td>\n",
       "    </tr>\n",
       "    <tr>\n",
       "      <th>7</th>\n",
       "      <td>2023-04-15 02:52:14</td>\n",
       "      <td>Uploaded result file: file-FwR6RxCuXHI6BPlNDIs...</td>\n",
       "    </tr>\n",
       "    <tr>\n",
       "      <th>8</th>\n",
       "      <td>2023-04-15 02:52:14</td>\n",
       "      <td>Fine-tune succeeded</td>\n",
       "    </tr>\n",
       "  </tbody>\n",
       "</table>\n",
       "</div>"
      ],
      "text/plain": [
       "           created_at                                            message\n",
       "0 2023-04-15 02:04:10     Created fine-tune: ft-a4QcUayEegXpPTLdXZnm7daO\n",
       "1 2023-04-15 02:04:29                              Fine-tune costs $1.55\n",
       "2 2023-04-15 02:04:30                Fine-tune enqueued. Queue number: 0\n",
       "3 2023-04-15 02:24:33                                  Fine-tune started\n",
       "4 2023-04-15 02:31:04                                Completed epoch 1/4\n",
       "5 2023-04-15 02:44:35                                Completed epoch 3/4\n",
       "6 2023-04-15 02:52:12  Uploaded model: ada:ft-personal-2023-04-15-02-...\n",
       "7 2023-04-15 02:52:14  Uploaded result file: file-FwR6RxCuXHI6BPlNDIs...\n",
       "8 2023-04-15 02:52:14                                Fine-tune succeeded"
      ]
     },
     "execution_count": 45,
     "metadata": {},
     "output_type": "execute_result"
    }
   ],
   "source": [
    "import requests\n",
    "\n",
    "fine_tune_id = \"ft-a4QcUayEegXpPTLdXZnm7daO\"\n",
    "\n",
    "headers = {\n",
    "    'Authorization': 'Bearer ' + os.getenv('OPENAI_API_KEY', ''),\n",
    "}\n",
    "\n",
    "response = requests.get(f'https://api.openai.com/v1/fine-tunes/{fine_tune_id}/events', headers=headers)\n",
    "response_df = pd.DataFrame(response.json()['data'])\n",
    "response_df['created_at'] = pd.to_datetime(response_df['created_at'], unit='s')\n",
    "response_df[['created_at', 'message']]"
   ]
  },
  {
   "cell_type": "code",
   "execution_count": 52,
   "metadata": {},
   "outputs": [
    {
     "data": {
      "text/plain": [
       "'Uploaded model: ada:ft-personal-2023-04-15-02-52-12'"
      ]
     },
     "execution_count": 52,
     "metadata": {},
     "output_type": "execute_result"
    }
   ],
   "source": [
    "response_df.iloc[6]['message']"
   ]
  },
  {
   "attachments": {},
   "cell_type": "markdown",
   "metadata": {},
   "source": [
    "# Model Performance"
   ]
  },
  {
   "cell_type": "code",
   "execution_count": 46,
   "metadata": {},
   "outputs": [],
   "source": [
    "!openai api fine_tunes.results -i ft-a4QcUayEegXpPTLdXZnm7daO > data/result.csv"
   ]
  },
  {
   "cell_type": "code",
   "execution_count": 47,
   "metadata": {},
   "outputs": [
    {
     "data": {
      "text/html": [
       "<div>\n",
       "<style scoped>\n",
       "    .dataframe tbody tr th:only-of-type {\n",
       "        vertical-align: middle;\n",
       "    }\n",
       "\n",
       "    .dataframe tbody tr th {\n",
       "        vertical-align: top;\n",
       "    }\n",
       "\n",
       "    .dataframe thead th {\n",
       "        text-align: right;\n",
       "    }\n",
       "</style>\n",
       "<table border=\"1\" class=\"dataframe\">\n",
       "  <thead>\n",
       "    <tr style=\"text-align: right;\">\n",
       "      <th></th>\n",
       "      <th>step</th>\n",
       "      <th>elapsed_tokens</th>\n",
       "      <th>elapsed_examples</th>\n",
       "      <th>training_loss</th>\n",
       "      <th>training_sequence_accuracy</th>\n",
       "      <th>training_token_accuracy</th>\n",
       "      <th>validation_loss</th>\n",
       "      <th>validation_sequence_accuracy</th>\n",
       "      <th>validation_token_accuracy</th>\n",
       "      <th>classification/accuracy</th>\n",
       "      <th>classification/weighted_f1_score</th>\n",
       "    </tr>\n",
       "  </thead>\n",
       "  <tbody>\n",
       "    <tr>\n",
       "      <th>3913</th>\n",
       "      <td>3914</td>\n",
       "      <td>9994576</td>\n",
       "      <td>31312</td>\n",
       "      <td>0.014639</td>\n",
       "      <td>0.75</td>\n",
       "      <td>0.826087</td>\n",
       "      <td>NaN</td>\n",
       "      <td>NaN</td>\n",
       "      <td>NaN</td>\n",
       "      <td>0.81</td>\n",
       "      <td>0.79736</td>\n",
       "    </tr>\n",
       "  </tbody>\n",
       "</table>\n",
       "</div>"
      ],
      "text/plain": [
       "      step  elapsed_tokens  elapsed_examples  training_loss  \\\n",
       "3913  3914         9994576             31312       0.014639   \n",
       "\n",
       "      training_sequence_accuracy  training_token_accuracy  validation_loss  \\\n",
       "3913                        0.75                 0.826087              NaN   \n",
       "\n",
       "      validation_sequence_accuracy  validation_token_accuracy  \\\n",
       "3913                           NaN                        NaN   \n",
       "\n",
       "      classification/accuracy  classification/weighted_f1_score  \n",
       "3913                     0.81                           0.79736  "
      ]
     },
     "execution_count": 47,
     "metadata": {},
     "output_type": "execute_result"
    }
   ],
   "source": [
    "results = pd.read_csv('data/result.csv')\n",
    "results[results['classification/accuracy'].notnull()].tail(1)"
   ]
  },
  {
   "attachments": {},
   "cell_type": "markdown",
   "metadata": {},
   "source": [
    "# Predict"
   ]
  },
  {
   "attachments": {},
   "cell_type": "markdown",
   "metadata": {},
   "source": [
    "Predict the product category based on product's review"
   ]
  },
  {
   "cell_type": "code",
   "execution_count": 223,
   "metadata": {},
   "outputs": [
    {
     "name": "stderr",
     "output_type": "stream",
     "text": [
      "<ipython-input-223-ed14308773b1>:1: DtypeWarning: Columns (11) have mixed types. Specify dtype option on import or set low_memory=False.\n",
      "  scrap = pd.read_csv(\"results/combined/scrap_final_result.csv\")\n",
      "<ipython-input-223-ed14308773b1>:8: SettingWithCopyWarning: \n",
      "A value is trying to be set on a copy of a slice from a DataFrame.\n",
      "Try using .loc[row_indexer,col_indexer] = value instead\n",
      "\n",
      "See the caveats in the documentation: https://pandas.pydata.org/pandas-docs/stable/user_guide/indexing.html#returning-a-view-versus-a-copy\n",
      "  review_to_predict['Helpfulness'] = review_to_predict['HelpfulnessNumerator'] / review_to_predict['HelpfulnessDenominator']\n"
     ]
    },
    {
     "data": {
      "text/html": [
       "<div>\n",
       "<style scoped>\n",
       "    .dataframe tbody tr th:only-of-type {\n",
       "        vertical-align: middle;\n",
       "    }\n",
       "\n",
       "    .dataframe tbody tr th {\n",
       "        vertical-align: top;\n",
       "    }\n",
       "\n",
       "    .dataframe thead th {\n",
       "        text-align: right;\n",
       "    }\n",
       "</style>\n",
       "<table border=\"1\" class=\"dataframe\">\n",
       "  <thead>\n",
       "    <tr style=\"text-align: right;\">\n",
       "      <th></th>\n",
       "      <th>ProductURL</th>\n",
       "      <th>Text</th>\n",
       "    </tr>\n",
       "  </thead>\n",
       "  <tbody>\n",
       "    <tr>\n",
       "      <th>0</th>\n",
       "      <td>https://www.amazon.com/dp/2841233731</td>\n",
       "      <td>This book is easy to read and the ingredients ...</td>\n",
       "    </tr>\n",
       "    <tr>\n",
       "      <th>1</th>\n",
       "      <td>https://www.amazon.com/dp/B0000CER0J</td>\n",
       "      <td>This is the best Earl Grey I've ever had--so i...</td>\n",
       "    </tr>\n",
       "    <tr>\n",
       "      <th>2</th>\n",
       "      <td>https://www.amazon.com/dp/B0000CERCD</td>\n",
       "      <td>This tea is very delicious and flavorful.  The...</td>\n",
       "    </tr>\n",
       "    <tr>\n",
       "      <th>3</th>\n",
       "      <td>https://www.amazon.com/dp/B0000CFH1O</td>\n",
       "      <td>Wilton has amazing products.  The color of thi...</td>\n",
       "    </tr>\n",
       "    <tr>\n",
       "      <th>4</th>\n",
       "      <td>https://www.amazon.com/dp/B0000CFNGU</td>\n",
       "      <td>This frosting is great, especially if you want...</td>\n",
       "    </tr>\n",
       "    <tr>\n",
       "      <th>...</th>\n",
       "      <td>...</td>\n",
       "      <td>...</td>\n",
       "    </tr>\n",
       "    <tr>\n",
       "      <th>4545</th>\n",
       "      <td>https://www.amazon.com/dp/B0099X2AE8</td>\n",
       "      <td>IT HAS THE BEST CRUNCH&lt;br /&gt;&lt;br /&gt;I LOVE IT IT...</td>\n",
       "    </tr>\n",
       "    <tr>\n",
       "      <th>4546</th>\n",
       "      <td>https://www.amazon.com/dp/B009AH958W</td>\n",
       "      <td>If you like Indian spices and peanuts, you'll ...</td>\n",
       "    </tr>\n",
       "    <tr>\n",
       "      <th>4547</th>\n",
       "      <td>https://www.amazon.com/dp/B009AVCXVY</td>\n",
       "      <td>The product description is very accurate.  I r...</td>\n",
       "    </tr>\n",
       "    <tr>\n",
       "      <th>4548</th>\n",
       "      <td>https://www.amazon.com/dp/B009NTCOFI</td>\n",
       "      <td>This review is for the boneless ham. A little ...</td>\n",
       "    </tr>\n",
       "    <tr>\n",
       "      <th>4549</th>\n",
       "      <td>https://www.amazon.com/dp/B009SMKESO</td>\n",
       "      <td>This review is for the boneless ham. A little ...</td>\n",
       "    </tr>\n",
       "  </tbody>\n",
       "</table>\n",
       "<p>4550 rows × 2 columns</p>\n",
       "</div>"
      ],
      "text/plain": [
       "                                ProductURL  \\\n",
       "0     https://www.amazon.com/dp/2841233731   \n",
       "1     https://www.amazon.com/dp/B0000CER0J   \n",
       "2     https://www.amazon.com/dp/B0000CERCD   \n",
       "3     https://www.amazon.com/dp/B0000CFH1O   \n",
       "4     https://www.amazon.com/dp/B0000CFNGU   \n",
       "...                                    ...   \n",
       "4545  https://www.amazon.com/dp/B0099X2AE8   \n",
       "4546  https://www.amazon.com/dp/B009AH958W   \n",
       "4547  https://www.amazon.com/dp/B009AVCXVY   \n",
       "4548  https://www.amazon.com/dp/B009NTCOFI   \n",
       "4549  https://www.amazon.com/dp/B009SMKESO   \n",
       "\n",
       "                                                   Text  \n",
       "0     This book is easy to read and the ingredients ...  \n",
       "1     This is the best Earl Grey I've ever had--so i...  \n",
       "2     This tea is very delicious and flavorful.  The...  \n",
       "3     Wilton has amazing products.  The color of thi...  \n",
       "4     This frosting is great, especially if you want...  \n",
       "...                                                 ...  \n",
       "4545  IT HAS THE BEST CRUNCH<br /><br />I LOVE IT IT...  \n",
       "4546  If you like Indian spices and peanuts, you'll ...  \n",
       "4547  The product description is very accurate.  I r...  \n",
       "4548  This review is for the boneless ham. A little ...  \n",
       "4549  This review is for the boneless ham. A little ...  \n",
       "\n",
       "[4550 rows x 2 columns]"
      ]
     },
     "execution_count": 223,
     "metadata": {},
     "output_type": "execute_result"
    }
   ],
   "source": [
    "scrap = pd.read_csv(\"results/combined/scrap_final_result.csv\")\n",
    "\n",
    "# filter url that the category needs to be predict\n",
    "url_to_predict = scrap[scrap['ProductMajorCategory'].isna()]['ProductURL']\n",
    "\n",
    "# consider review with dead urls\n",
    "review_to_predict = amazon[amazon['ProductURL'].isin(url_to_predict)]\n",
    "\n",
    "# sort review based on helpfulness percentage\n",
    "review_to_predict['Helpfulness'] = review_to_predict['HelpfulnessNumerator'] / review_to_predict['HelpfulnessDenominator']\n",
    "review_to_predict = review_to_predict.sort_values('Helpfulness', ascending=False)\n",
    "\n",
    "# take the top three most helpful review to predict product category\n",
    "review_to_predict = review_to_predict.groupby('ProductURL')['Text'].apply(lambda x: x.head(3).str.cat(sep='\\n')).reset_index()\n",
    "review_to_predict"
   ]
  },
  {
   "cell_type": "code",
   "execution_count": 224,
   "metadata": {},
   "outputs": [
    {
     "data": {
      "text/plain": [
       "5"
      ]
     },
     "execution_count": 224,
     "metadata": {},
     "output_type": "execute_result"
    }
   ],
   "source": [
    "# find out max words of product category\n",
    "subset_df['completion'].apply(lambda x: len(x.split(' '))).max()"
   ]
  },
  {
   "cell_type": "code",
   "execution_count": 225,
   "metadata": {},
   "outputs": [
    {
     "data": {
      "text/plain": [
       "'I love fun dip, it was one of my favorite candies as a kid. But this time, I chipped my tooth while eating one of the dip sticks. Just be sure you have licked it alot before you bite down on it. I still love fun dip, but my teeth arent what they used to be as a kid. Just be careful!'"
      ]
     },
     "execution_count": 225,
     "metadata": {},
     "output_type": "execute_result"
    }
   ],
   "source": [
    "# sample review\n",
    "sample_review = review_to_predict['Text'].iloc[333]\n",
    "sample_review"
   ]
  },
  {
   "cell_type": "code",
   "execution_count": 226,
   "metadata": {},
   "outputs": [
    {
     "data": {
      "text/plain": [
       "' Grocery & Gourmet'"
      ]
     },
     "execution_count": 226,
     "metadata": {},
     "output_type": "execute_result"
    }
   ],
   "source": [
    "ft_model = 'ada:ft-personal-2023-04-15-02-52-12'\n",
    "res = openai.Completion.create(model=ft_model, prompt=sample_review + ' ->', max_tokens=5, temperature=0)\n",
    "res['choices'][0]['text']"
   ]
  },
  {
   "cell_type": "code",
   "execution_count": 227,
   "metadata": {},
   "outputs": [
    {
     "data": {
      "text/plain": [
       "<OpenAIObject text_completion id=cmpl-75YOepm0weZbODBDLLTSzymKV6Ao3 at 0x1d4f499dbd0> JSON: {\n",
       "  \"choices\": [\n",
       "    {\n",
       "      \"finish_reason\": \"length\",\n",
       "      \"index\": 0,\n",
       "      \"logprobs\": null,\n",
       "      \"text\": \" Grocery & Gourmet\"\n",
       "    }\n",
       "  ],\n",
       "  \"created\": 1681558216,\n",
       "  \"id\": \"cmpl-75YOepm0weZbODBDLLTSzymKV6Ao3\",\n",
       "  \"model\": \"ada:ft-personal-2023-04-15-02-52-12\",\n",
       "  \"object\": \"text_completion\",\n",
       "  \"usage\": {\n",
       "    \"completion_tokens\": 5,\n",
       "    \"prompt_tokens\": 75,\n",
       "    \"total_tokens\": 80\n",
       "  }\n",
       "}"
      ]
     },
     "execution_count": 227,
     "metadata": {},
     "output_type": "execute_result"
    }
   ],
   "source": [
    "res"
   ]
  },
  {
   "attachments": {},
   "cell_type": "markdown",
   "metadata": {},
   "source": [
    "Let's loop!\n",
    "\n",
    "`tiktoken`: https://github.com/openai/openai-cookbook/blob/main/examples/How_to_count_tokens_with_tiktoken.ipynb"
   ]
  },
  {
   "cell_type": "code",
   "execution_count": 228,
   "metadata": {},
   "outputs": [],
   "source": [
    "from tqdm import tqdm\n",
    "import time\n",
    "import tiktoken\n",
    "encoding = tiktoken.encoding_for_model(\"text-embedding-ada-002\")"
   ]
  },
  {
   "cell_type": "code",
   "execution_count": 231,
   "metadata": {},
   "outputs": [
    {
     "name": "stdout",
     "output_type": "stream",
     "text": [
      "6\n",
      "tiktoken\n"
     ]
    }
   ],
   "source": [
    "sample_review = \"tiktoken is great!\"\n",
    "sample_review_encode = encoding.encode(sample_review)\n",
    "print(len(sample_review_encode))\n",
    "print(encoding.decode(sample_review_encode[:3]))"
   ]
  },
  {
   "cell_type": "code",
   "execution_count": 232,
   "metadata": {},
   "outputs": [
    {
     "name": "stderr",
     "output_type": "stream",
     "text": [
      "100%|██████████| 4550/4550 [2:22:23<00:00,  1.88s/it]  \n"
     ]
    }
   ],
   "source": [
    "ft_model = 'ada:ft-personal-2023-04-15-02-52-12'\n",
    "list_to_iter = list(review_to_predict.itertuples())\n",
    "\n",
    "predict_result = []\n",
    "for row in tqdm(list_to_iter):\n",
    "    # delay (limitation from openai)\n",
    "    time.sleep(1)\n",
    "\n",
    "    url = row.ProductURL\n",
    "    review = row.Text\n",
    "\n",
    "    # if the review too long, cut the embedding\n",
    "    thresh = 1900\n",
    "    review_encode = encoding.encode(review)\n",
    "    if len(review_encode) >= thresh:\n",
    "        review = encoding.decode(review_encode[:thresh])\n",
    "\n",
    "    # predict\n",
    "    res = openai.Completion.create(\n",
    "        model=ft_model,\n",
    "        prompt=review + ' ->',\n",
    "        max_tokens=5,\n",
    "        temperature=0\n",
    "    )\n",
    "    label = res['choices'][0]['text']\n",
    "\n",
    "    row = {\n",
    "        'ProductURL': url,\n",
    "        'Text': review,\n",
    "        'ProductCategories_1_raw_prediction': label\n",
    "    }\n",
    "\n",
    "    # save to temporary list, just in case\n",
    "    predict_result.append(row)\n",
    "\n",
    "    # immediately save to csv\n",
    "    csv_file_path = \"results/openai-predict/url_review_category.csv\"\n",
    "    result_df = pd.read_csv(csv_file_path)\n",
    "    result_df = pd.concat([result_df, pd.DataFrame([row])]).reset_index(drop=True)\n",
    "    result_df.to_csv(csv_file_path, index=False)"
   ]
  },
  {
   "attachments": {},
   "cell_type": "markdown",
   "metadata": {},
   "source": [
    "Map the prediction result into proper (existing) product category"
   ]
  },
  {
   "cell_type": "code",
   "execution_count": 233,
   "metadata": {},
   "outputs": [
    {
     "name": "stderr",
     "output_type": "stream",
     "text": [
      "<ipython-input-233-b568c9b2b491>:5: DtypeWarning: Columns (10) have mixed types. Specify dtype option on import or set low_memory=False.\n",
      "  scrap_result = pd.read_csv(\"results/combined/20230415_094354_scrap_results_combined.csv\")\n"
     ]
    }
   ],
   "source": [
    "import pandas as pd\n",
    "from thefuzz import process, fuzz\n",
    "\n",
    "# read scraping result\n",
    "scrap_result = pd.read_csv(\"results/combined/20230415_094354_scrap_results_combined.csv\")\n",
    "unique_category_list = scrap_result['ProductCategories_1'].unique()\n",
    "\n",
    "# read openai prediction\n",
    "predict_result = pd.read_csv(\"results/openai-predict/url_review_category.csv\")\n",
    "\n",
    "# create mapping\n",
    "mapping_category = {}\n",
    "for category in predict_result['ProductCategories_1_raw_prediction'].unique():\n",
    "    # try several approaches\n",
    "    result_list = [\n",
    "        process.extractOne(category, unique_category_list),\n",
    "        process.extractOne(category, unique_category_list, scorer=fuzz.token_sort_ratio)\n",
    "    ]\n",
    "\n",
    "    # get best match\n",
    "    sim_category, sim_score = max(result_list, key=lambda x: x[1] if x is not None else 0)\n",
    "\n",
    "    # save mapping\n",
    "    mapping_category[category] = sim_category\n",
    "\n",
    "# mapping\n",
    "predict_result['ProductCategories_1_prediction'] = predict_result['ProductCategories_1_raw_prediction'].apply(lambda x: mapping_category[x])\n",
    "\n",
    "# save to csv\n",
    "predict_result.to_csv(\"results/openai-predict/url_review_category.csv\", index=False)\n"
   ]
  },
  {
   "attachments": {},
   "cell_type": "markdown",
   "metadata": {},
   "source": [
    "Final result: merge the scrap result with prediction result"
   ]
  },
  {
   "cell_type": "code",
   "execution_count": 234,
   "metadata": {},
   "outputs": [
    {
     "name": "stderr",
     "output_type": "stream",
     "text": [
      "<ipython-input-234-ba209431d74c>:1: DtypeWarning: Columns (10) have mixed types. Specify dtype option on import or set low_memory=False.\n",
      "  scrap = pd.read_csv(\"results/combined/20230415_094354_scrap_results_combined.csv\")\n"
     ]
    }
   ],
   "source": [
    "scrap = pd.read_csv(\"results/combined/20230415_094354_scrap_results_combined.csv\")\n",
    "predict_result = pd.read_csv(\"results/openai-predict/url_review_category.csv\")\n",
    "predict_result = predict_result.drop(columns=['Text'])\n",
    "final_result = pd.merge(scrap, predict_result, how=\"left\", on=\"ProductURL\")\n",
    "final_result.insert(\n",
    "    loc=3,\n",
    "    column='ProductMajorCategory',\n",
    "    value=final_result['ProductCategories_1'].fillna(final_result['ProductCategories_1_prediction'])\n",
    ")\n",
    "final_result.to_csv(\"results/combined/scrap_final_result.csv\", index=False)"
   ]
  },
  {
   "attachments": {},
   "cell_type": "markdown",
   "metadata": {},
   "source": [
    "Sanity check"
   ]
  },
  {
   "cell_type": "code",
   "execution_count": 4,
   "metadata": {},
   "outputs": [
    {
     "name": "stderr",
     "output_type": "stream",
     "text": [
      "<ipython-input-4-90c8d4539607>:1: DtypeWarning: Columns (11) have mixed types. Specify dtype option on import or set low_memory=False.\n",
      "  final_result = pd.read_csv(\"results/combined/scrap_final_result.csv\")\n"
     ]
    },
    {
     "data": {
      "text/html": [
       "<div>\n",
       "<style scoped>\n",
       "    .dataframe tbody tr th:only-of-type {\n",
       "        vertical-align: middle;\n",
       "    }\n",
       "\n",
       "    .dataframe tbody tr th {\n",
       "        vertical-align: top;\n",
       "    }\n",
       "\n",
       "    .dataframe thead th {\n",
       "        text-align: right;\n",
       "    }\n",
       "</style>\n",
       "<table border=\"1\" class=\"dataframe\">\n",
       "  <thead>\n",
       "    <tr style=\"text-align: right;\">\n",
       "      <th></th>\n",
       "      <th>ProductURL</th>\n",
       "      <th>ProductTitle</th>\n",
       "      <th>ProductBrand</th>\n",
       "      <th>ProductMajorCategory</th>\n",
       "      <th>ProductCategories_1</th>\n",
       "      <th>ProductCategories_2</th>\n",
       "      <th>ProductCategories_3</th>\n",
       "      <th>ProductCategories_4</th>\n",
       "      <th>ProductCategories_5</th>\n",
       "      <th>ProductCategories_6</th>\n",
       "      <th>ProductCategories_7</th>\n",
       "      <th>ProductCategories_8</th>\n",
       "      <th>ProductCategories_1_raw_prediction</th>\n",
       "      <th>ProductCategories_1_prediction</th>\n",
       "    </tr>\n",
       "  </thead>\n",
       "  <tbody>\n",
       "  </tbody>\n",
       "</table>\n",
       "</div>"
      ],
      "text/plain": [
       "Empty DataFrame\n",
       "Columns: [ProductURL, ProductTitle, ProductBrand, ProductMajorCategory, ProductCategories_1, ProductCategories_2, ProductCategories_3, ProductCategories_4, ProductCategories_5, ProductCategories_6, ProductCategories_7, ProductCategories_8, ProductCategories_1_raw_prediction, ProductCategories_1_prediction]\n",
       "Index: []"
      ]
     },
     "execution_count": 4,
     "metadata": {},
     "output_type": "execute_result"
    }
   ],
   "source": [
    "final_result = pd.read_csv(\"results/combined/scrap_final_result.csv\")\n",
    "# no missing values\n",
    "final_result[final_result['ProductMajorCategory'].isna()]"
   ]
  }
 ],
 "metadata": {
  "kernelspec": {
   "display_name": "big-data",
   "language": "python",
   "name": "python3"
  },
  "language_info": {
   "codemirror_mode": {
    "name": "ipython",
    "version": 3
   },
   "file_extension": ".py",
   "mimetype": "text/x-python",
   "name": "python",
   "nbconvert_exporter": "python",
   "pygments_lexer": "ipython3",
   "version": "3.9.16"
  },
  "orig_nbformat": 4
 },
 "nbformat": 4,
 "nbformat_minor": 2
}
